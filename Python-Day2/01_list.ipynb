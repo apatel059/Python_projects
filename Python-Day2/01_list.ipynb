{
 "cells": [
  {
   "cell_type": "code",
   "execution_count": 16,
   "id": "south-dollar",
   "metadata": {},
   "outputs": [
    {
     "name": "stdout",
     "output_type": "stream",
     "text": [
      "['fintech', 'python', 'money']\n"
     ]
    }
   ],
   "source": [
    "cheer_symbol = \"*\\O/*\"\n",
    "cheer_symbol_2 = \"ヘ( ^o^)ノ＼(^_^ )\"\n",
    "\n",
    "cheer = ['fintech', 'python', 'money']\n",
    "print(cheer)"
   ]
  },
  {
   "cell_type": "code",
   "execution_count": 17,
   "id": "soviet-alignment",
   "metadata": {},
   "outputs": [
    {
     "name": "stdout",
     "output_type": "stream",
     "text": [
      "0\n",
      "1\n",
      "2\n"
     ]
    }
   ],
   "source": [
    "for i in range(len(cheer)):\n",
    "    print(i)"
   ]
  },
  {
   "cell_type": "code",
   "execution_count": 18,
   "id": "hearing-executive",
   "metadata": {},
   "outputs": [
    {
     "name": "stdout",
     "output_type": "stream",
     "text": [
      "3\n"
     ]
    }
   ],
   "source": [
    "print(len(cheer))"
   ]
  },
  {
   "cell_type": "code",
   "execution_count": 19,
   "id": "cordless-metadata",
   "metadata": {},
   "outputs": [
    {
     "name": "stdout",
     "output_type": "stream",
     "text": [
      "Give me letter f!\n",
      "f!\n",
      "Give me letter i!\n",
      "i!\n",
      "Give me letter n!\n",
      "n!\n",
      "Give me letter t!\n",
      "t!\n",
      "Give me letter e!\n",
      "e!\n",
      "Give me letter c!\n",
      "c!\n",
      "Give me letter h!\n",
      "h!\n",
      "\n",
      "What does that spell?!\n",
      "fintech!\n",
      "Woohoo! Go fintech!\n",
      "*\\O/**\\O/**\\O/*\n",
      "ヘ( ^o^)ノ＼(^_^ )\n",
      "\n",
      "Give me letter p!\n",
      "p!\n",
      "Give me letter y!\n",
      "y!\n",
      "Give me letter t!\n",
      "t!\n",
      "Give me letter h!\n",
      "h!\n",
      "Give me letter o!\n",
      "o!\n",
      "Give me letter n!\n",
      "n!\n",
      "\n",
      "What does that spell?!\n",
      "python!\n",
      "Woohoo! Go python!\n",
      "*\\O/**\\O/**\\O/*\n",
      "ヘ( ^o^)ノ＼(^_^ )\n",
      "\n",
      "Give me letter m!\n",
      "m!\n",
      "Give me letter o!\n",
      "o!\n",
      "Give me letter n!\n",
      "n!\n",
      "Give me letter e!\n",
      "e!\n",
      "Give me letter y!\n",
      "y!\n",
      "\n",
      "What does that spell?!\n",
      "money!\n",
      "Woohoo! Go money!\n",
      "*\\O/**\\O/**\\O/*\n",
      "ヘ( ^o^)ノ＼(^_^ )\n",
      "\n"
     ]
    }
   ],
   "source": [
    "for i in range(len(cheer)):\n",
    "    for x in cheer[i]:\n",
    "        print('Give me letter ' + x + '!')\n",
    "        print(x + '!')\n",
    "        \n",
    "    print(\"\\nWhat does that spell?!\")\n",
    "    print(cheer[i] + \"!\\nWoohoo! Go \" + cheer[i] + \"!\")\n",
    "    print(cheer_symbol * 3)\n",
    "    print(cheer_symbol_2)\n",
    "    print()"
   ]
  },
  {
   "cell_type": "code",
   "execution_count": null,
   "id": "conditional-governor",
   "metadata": {},
   "outputs": [],
   "source": []
  }
 ],
 "metadata": {
  "kernelspec": {
   "display_name": "Python 3",
   "language": "python",
   "name": "python3"
  },
  "language_info": {
   "codemirror_mode": {
    "name": "ipython",
    "version": 3
   },
   "file_extension": ".py",
   "mimetype": "text/x-python",
   "name": "python",
   "nbconvert_exporter": "python",
   "pygments_lexer": "ipython3",
   "version": "3.8.5"
  }
 },
 "nbformat": 4,
 "nbformat_minor": 5
}
