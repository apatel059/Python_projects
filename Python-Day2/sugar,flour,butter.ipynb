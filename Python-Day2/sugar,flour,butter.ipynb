{
 "cells": [
  {
   "cell_type": "code",
   "execution_count": 9,
   "metadata": {},
   "outputs": [
    {
     "name": "stdout",
     "output_type": "stream",
     "text": [
      "My grocery list:\n",
      "['Water', 'Butter', 'Eggs', 'Apples', 'Cinnamon', 'Sugar', 'Milk']\n",
      "\n"
     ]
    }
   ],
   "source": [
    "print('My grocery list:')\n",
    "grocery_list = ['Water',\n",
    "'Butter',\n",
    "'Eggs',\n",
    "'Apples',\n",
    "'Cinnamon',\n",
    "'Sugar',\n",
    "'Milk']\n",
    "\n",
    "print(grocery_list)\n",
    "print()"
   ]
  },
  {
   "cell_type": "code",
   "execution_count": 10,
   "metadata": {},
   "outputs": [
    {
     "name": "stdout",
     "output_type": "stream",
     "text": [
      "['Water', 'Butter']\n",
      "\n"
     ]
    }
   ],
   "source": [
    "print(grocery_list[:2])\n",
    "print()"
   ]
  },
  {
   "cell_type": "code",
   "execution_count": 11,
   "metadata": {},
   "outputs": [
    {
     "name": "stdout",
     "output_type": "stream",
     "text": [
      "['Eggs', 'Apples', 'Cinnamon', 'Sugar', 'Milk']\n"
     ]
    }
   ],
   "source": [
    "print(grocery_list[2:])"
   ]
  },
  {
   "cell_type": "code",
   "execution_count": 12,
   "metadata": {},
   "outputs": [
    {
     "name": "stdout",
     "output_type": "stream",
     "text": [
      "['Butter', 'Apples', 'Sugar']\n"
     ]
    }
   ],
   "source": [
    "print(grocery_list[1::2])"
   ]
  },
  {
   "cell_type": "code",
   "execution_count": 13,
   "metadata": {},
   "outputs": [
    {
     "name": "stdout",
     "output_type": "stream",
     "text": [
      "['Water', 'Butter', 'Eggs', 'Apples', 'Cinnamon', 'Sugar', 'Milk', 'flour']\n"
     ]
    }
   ],
   "source": [
    "grocery_list.append('flour')\n",
    "print(grocery_list)"
   ]
  },
  {
   "cell_type": "code",
   "execution_count": 14,
   "metadata": {},
   "outputs": [
    {
     "name": "stdout",
     "output_type": "stream",
     "text": [
      "['Water', 'Butter', 'Eggs', 'gala apples', 'Cinnamon', 'Sugar', 'Milk', 'flour']\n"
     ]
    }
   ],
   "source": [
    "grocery_list[3] = 'gala apples'\n",
    "print(grocery_list)"
   ]
  },
  {
   "cell_type": "code",
   "execution_count": 15,
   "metadata": {},
   "outputs": [
    {
     "name": "stdout",
     "output_type": "stream",
     "text": [
      "8\n"
     ]
    }
   ],
   "source": [
    "print(len(grocery_list))"
   ]
  },
  {
   "cell_type": "code",
   "execution_count": 17,
   "metadata": {},
   "outputs": [
    {
     "name": "stdout",
     "output_type": "stream",
     "text": [
      "3\n"
     ]
    }
   ],
   "source": [
    "print(grocery_list.index('gala apples'))"
   ]
  },
  {
   "cell_type": "code",
   "execution_count": null,
   "metadata": {},
   "outputs": [],
   "source": [
    "grocery_list.remove('Sugar')\n",
    "print(grocery_list)"
   ]
  },
  {
   "cell_type": "code",
   "execution_count": null,
   "metadata": {},
   "outputs": [],
   "source": [
    "water_index = grocery_list.index('Water')\n",
    "grocery_list.pop(water_index)\n",
    "print(grocery_list)\n"
   ]
  },
  {
   "cell_type": "code",
   "execution_count": null,
   "metadata": {},
   "outputs": [],
   "source": [
    "grocery_list.pop(-1)\n",
    "print(grocery_list)"
   ]
  },
  {
   "cell_type": "code",
   "execution_count": null,
   "metadata": {},
   "outputs": [],
   "source": []
  }
 ],
 "metadata": {
  "kernelspec": {
   "display_name": "Python 3",
   "language": "python",
   "name": "python3"
  },
  "language_info": {
   "codemirror_mode": {
    "name": "ipython",
    "version": 3
   },
   "file_extension": ".py",
   "mimetype": "text/x-python",
   "name": "python",
   "nbconvert_exporter": "python",
   "pygments_lexer": "ipython3",
   "version": "3.7.9"
  }
 },
 "nbformat": 4,
 "nbformat_minor": 5
}
