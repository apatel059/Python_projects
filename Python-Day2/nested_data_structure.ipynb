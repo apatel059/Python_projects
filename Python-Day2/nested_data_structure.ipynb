{
 "cells": [
  {
   "cell_type": "code",
   "execution_count": 2,
   "id": "decent-kelly",
   "metadata": {},
   "outputs": [],
   "source": [
    "ceo_list = [\"Warren\", \"Jack\", \"Harry\"]\n",
    "\n",
    "ceo_nested_list = [\n",
    "    [\"Warren Buffet\", 88, \"CEO of Berkshire Hathaway\"],\n",
    "    [\"Jeff Bezos\", 55, \"CEO of Amazon\"],\n",
    "    [\"Harry Markowitz\", 91, \"Professor of Finance\"]\n",
    "]"
   ]
  },
  {
   "cell_type": "code",
   "execution_count": 3,
   "id": "false-characteristic",
   "metadata": {},
   "outputs": [
    {
     "name": "stdout",
     "output_type": "stream",
     "text": [
      "['Warren', 'Jack', 'Harry']\n",
      "[['Warren Buffet', 88, 'CEO of Berkshire Hathaway'], ['Jeff Bezos', 55, 'CEO of Amazon'], ['Harry Markowitz', 91, 'Professor of Finance']]\n"
     ]
    }
   ],
   "source": [
    "print(ceo_list)\n",
    "print(ceo_nested_list)"
   ]
  },
  {
   "cell_type": "code",
   "execution_count": 6,
   "id": "amber-provincial",
   "metadata": {},
   "outputs": [
    {
     "name": "stdout",
     "output_type": "stream",
     "text": [
      "['Warren Buffet', 88, 'CEO of Berkshire Hathaway']\n"
     ]
    }
   ],
   "source": [
    "print((ceo_nested_list)[0])"
   ]
  },
  {
   "cell_type": "code",
   "execution_count": 7,
   "id": "narrow-lighting",
   "metadata": {},
   "outputs": [
    {
     "name": "stdout",
     "output_type": "stream",
     "text": [
      "Warren Buffet\n"
     ]
    }
   ],
   "source": [
    "print((ceo_nested_list)[0][0])"
   ]
  },
  {
   "cell_type": "code",
   "execution_count": 9,
   "id": "hungarian-dance",
   "metadata": {},
   "outputs": [
    {
     "name": "stdout",
     "output_type": "stream",
     "text": [
      "CEO of Amazon\n"
     ]
    }
   ],
   "source": [
    "print((ceo_nested_list)[1][2])"
   ]
  },
  {
   "cell_type": "code",
   "execution_count": 23,
   "id": "intelligent-winter",
   "metadata": {},
   "outputs": [
    {
     "name": "stdout",
     "output_type": "stream",
     "text": [
      "[{'name': 'Warren Buffet', 'age': 88, 'occupation': 'CEO of Berkshire Hathaway'}, {'name': 'Jeff Bezos', 'age': 55, 'occupation': 'CEO of Amazon'}, {'name': 'Harry Markowitz', 'age': 91, 'occupation': 'Professor of Finance'}]\n"
     ]
    }
   ],
   "source": [
    "ceo_nested_dict = [\n",
    "    {\n",
    "        'name': 'Warren Buffet',\n",
    "        'age': 88,\n",
    "        'occupation': 'CEO of Berkshire Hathaway'\n",
    "\n",
    "    },\n",
    "    {\n",
    "        'name': \"Jeff Bezos\" ,\n",
    "        \"age\": 55,\n",
    "        \"occupation\": \"CEO of Amazon\"\n",
    "    },\n",
    "    {\n",
    "        \"name\": \"Harry Markowitz\",\n",
    "        \"age\": 91,\n",
    "        \"occupation\": \"Professor of Finance\"\n",
    "    }\n",
    "]    \n",
    "\n",
    "print(ceo_nested_dict)"
   ]
  },
  {
   "cell_type": "code",
   "execution_count": 24,
   "id": "radical-beginning",
   "metadata": {},
   "outputs": [
    {
     "name": "stdout",
     "output_type": "stream",
     "text": [
      "{'name': 'Jeff Bezos', 'age': 55, 'occupation': 'CEO of Amazon'}\n"
     ]
    }
   ],
   "source": [
    "second_entry = (ceo_nested_dict)[1]\n",
    "print(second_entry)"
   ]
  },
  {
   "cell_type": "code",
   "execution_count": 25,
   "id": "moderate-grace",
   "metadata": {},
   "outputs": [
    {
     "name": "stdout",
     "output_type": "stream",
     "text": [
      "Jeff Bezos\n"
     ]
    }
   ],
   "source": [
    "second_entry_name = (second_entry)['name']\n",
    "print(second_entry_name)"
   ]
  },
  {
   "cell_type": "code",
   "execution_count": 28,
   "id": "delayed-revision",
   "metadata": {},
   "outputs": [
    {
     "name": "stdout",
     "output_type": "stream",
     "text": [
      "Warren Buffet\n"
     ]
    }
   ],
   "source": [
    "second_entry_name1 = (ceo_nested_dict)[0]['name']\n",
    "print(second_entry_name1)"
   ]
  },
  {
   "cell_type": "code",
   "execution_count": 52,
   "id": "sunset-interference",
   "metadata": {},
   "outputs": [
    {
     "name": "stdout",
     "output_type": "stream",
     "text": [
      "{'APPL': {'name': 'Apple', 'exchange': 'NASDAQ', 'market_cap': 937.7}, 'MU': {'name': 'Micron Technology', 'exchange': 'NASDAQ', 'market_cap': 48.03}, 'AMD': {'name': 'Advanced Micro Devices', 'exchange': 'NASDAQ', 'market_cap': 29.94}, 'TWTR': {'name': 'Twitter', 'exchange': 'NASDAQ', 'market_cap': 26.42}}\n"
     ]
    }
   ],
   "source": [
    "stocks_nested_dict = {\n",
    "    'APPL': {\n",
    "        'name': 'Apple',\n",
    "        \"exchange\": \"NASDAQ\",\n",
    "        \"market_cap\": 937.7\n",
    "    },\n",
    "    \"MU\": {\n",
    "        \"name\": \"Micron Technology\",\n",
    "        \"exchange\": \"NASDAQ\",\n",
    "        \"market_cap\": 48.03\n",
    "    },\n",
    "    \"AMD\": {\n",
    "        \"name\": \"Advanced Micro Devices\",\n",
    "        \"exchange\": \"NASDAQ\",\n",
    "        \"market_cap\": 29.94\n",
    "    },\n",
    "    \"TWTR\": {\n",
    "        \"name\": \"Twitter\",\n",
    "        \"exchange\": \"NASDAQ\",\n",
    "        \"market_cap\": 26.42\n",
    "    }\n",
    "}\n",
    "print(stocks_nested_dict)"
   ]
  },
  {
   "cell_type": "code",
   "execution_count": 54,
   "id": "specified-panel",
   "metadata": {},
   "outputs": [
    {
     "name": "stdout",
     "output_type": "stream",
     "text": [
      "Twitter\n"
     ]
    }
   ],
   "source": [
    "TWTR_entry = (stocks_nested_dict)['TWTR']['name']\n",
    "print(TWTR_entery)"
   ]
  },
  {
   "cell_type": "code",
   "execution_count": 44,
   "id": "passing-postage",
   "metadata": {},
   "outputs": [
    {
     "name": "stdout",
     "output_type": "stream",
     "text": [
      "{'APPL': ['Apple', 101.32, 'NASDAQ', 937.7], 'MU': ['Micron Technology', 32.12, 'NASDAQ', 48.03], 'AMD': ['Advanced Micro Devices', 23.12, 'NASDAQ', 29.94], 'TWTR': ['Twitter', 34.4, 'NASDAQ', 26.42]}\n"
     ]
    }
   ],
   "source": [
    "stocks_nested_list = {\n",
    "    \"APPL\": [\"Apple\", 101.32, \"NASDAQ\", 937.7],\n",
    "    \"MU\": [\"Micron Technology\", 32.12, \"NASDAQ\", 48.03],\n",
    "    \"AMD\": [\"Advanced Micro Devices\", 23.12, \"NASDAQ\", 29.94],\n",
    "    \"TWTR\": [\"Twitter\", 34.40, \"NASDAQ\", 26.42]\n",
    "}\n",
    "\n",
    "print(stocks_nested_list)"
   ]
  },
  {
   "cell_type": "code",
   "execution_count": 56,
   "id": "engaged-sussex",
   "metadata": {},
   "outputs": [
    {
     "name": "stdout",
     "output_type": "stream",
     "text": [
      "Apple\n"
     ]
    }
   ],
   "source": [
    "apple_entry = stocks_nested_list['APPL'][0]\n",
    "print(apple_entry)"
   ]
  },
  {
   "cell_type": "code",
   "execution_count": null,
   "id": "frequent-doctrine",
   "metadata": {},
   "outputs": [],
   "source": []
  }
 ],
 "metadata": {
  "kernelspec": {
   "display_name": "Python 3",
   "language": "python",
   "name": "python3"
  },
  "language_info": {
   "codemirror_mode": {
    "name": "ipython",
    "version": 3
   },
   "file_extension": ".py",
   "mimetype": "text/x-python",
   "name": "python",
   "nbconvert_exporter": "python",
   "pygments_lexer": "ipython3",
   "version": "3.8.5"
  }
 },
 "nbformat": 4,
 "nbformat_minor": 5
}
