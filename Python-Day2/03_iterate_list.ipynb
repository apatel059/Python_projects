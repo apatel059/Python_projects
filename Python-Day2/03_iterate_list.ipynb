{
 "cells": [
  {
   "cell_type": "code",
   "execution_count": 3,
   "id": "piano-bloom",
   "metadata": {},
   "outputs": [],
   "source": [
    "count = 0\n",
    "total = 0\n",
    "average = 0\n",
    "minimum = 0\n",
    "maximum = 0"
   ]
  },
  {
   "cell_type": "code",
   "execution_count": 4,
   "id": "ranking-receiver",
   "metadata": {},
   "outputs": [],
   "source": [
    "cash_tips = [22, 10, 30, 45, 54, 60, 56]"
   ]
  },
  {
   "cell_type": "code",
   "execution_count": 5,
   "id": "instrumental-theta",
   "metadata": {},
   "outputs": [
    {
     "name": "stdout",
     "output_type": "stream",
     "text": [
      "------Summary------\n",
      "total tips: 277\n",
      "number of days: 7\n",
      "daily avg: 39.57\n",
      "least amount of tips: 10\n",
      "maximum amount of tips: 60\n"
     ]
    }
   ],
   "source": [
    "for tip in cash_tips:\n",
    "    \n",
    "    total += tip\n",
    "    \n",
    "    count += 1\n",
    "    \n",
    "    if minimum == 0:\n",
    "        minimum = tip\n",
    "    elif tip < minimum:\n",
    "        minimum = tip\n",
    "        \n",
    "    if tip > maximum:\n",
    "        maximum = tip\n",
    "        \n",
    "average = round(total / count, 2)\n",
    "    \n",
    "    \n",
    "print('------Summary------')\n",
    "print(f'total tips: {total}')\n",
    "print(f'number of days: {count}') \n",
    "print(f'daily avg: {average}')\n",
    "print(f'least amount of tips: {minimum}')\n",
    "print(f'maximum amount of tips: {maximum}')"
   ]
  },
  {
   "cell_type": "code",
   "execution_count": 6,
   "id": "hundred-clearance",
   "metadata": {},
   "outputs": [
    {
     "name": "stdout",
     "output_type": "stream",
     "text": [
      "---------Summary Statistics----------\n",
      "Number of Days: 14\n",
      "Total Tips: 554\n",
      "Daily Average: 39.57\n",
      "Least Amount of Tips: 10\n",
      "Maximum Amount of Tips: 60\n"
     ]
    }
   ],
   "source": [
    "for tip in cash_tips:\n",
    "\n",
    "    # Cumulatively sum up the total and count of tips\n",
    "    total += tip \n",
    "    #total = total + tip\n",
    "    count += 1\n",
    "    #count = count + 1\n",
    "    \n",
    "    # Logic to determine minimum values\n",
    "    if minimum == 0:\n",
    "        minimum = tip #set first value to minimum to begin evaluation\n",
    "    elif tip < minimum:\n",
    "        minimum = tip\n",
    "        \n",
    "    # Logic to determine maximum values        \n",
    "    if tip > maximum:\n",
    "        maximum = tip\n",
    "\n",
    "# Calculate the average\n",
    "average = round(total / count, 2) #round(number, digits)\n",
    "\n",
    "# Print out the summary statistics\n",
    "print(\"---------Summary Statistics----------\")\n",
    "print(f\"Number of Days: {count}\")\n",
    "print(f\"Total Tips: {total}\")\n",
    "print(f\"Daily Average: {average}\")\n",
    "print(f\"Least Amount of Tips: {minimum}\")\n",
    "print(f\"Maximum Amount of Tips: {maximum}\")"
   ]
  },
  {
   "cell_type": "code",
   "execution_count": null,
   "id": "exotic-shadow",
   "metadata": {},
   "outputs": [],
   "source": []
  }
 ],
 "metadata": {
  "kernelspec": {
   "display_name": "Python 3",
   "language": "python",
   "name": "python3"
  },
  "language_info": {
   "codemirror_mode": {
    "name": "ipython",
    "version": 3
   },
   "file_extension": ".py",
   "mimetype": "text/x-python",
   "name": "python",
   "nbconvert_exporter": "python",
   "pygments_lexer": "ipython3",
   "version": "3.8.5"
  }
 },
 "nbformat": 4,
 "nbformat_minor": 5
}
