{
 "cells": [
  {
   "cell_type": "code",
   "execution_count": 43,
   "id": "perfect-program",
   "metadata": {},
   "outputs": [
    {
     "name": "stdout",
     "output_type": "stream",
     "text": [
      "Growth Rates:  ['0.04%']\n"
     ]
    }
   ],
   "source": [
    "growth_rates = []\n",
    "\n",
    "def calculate_compound_growth_rate(begining_bal, ending_bal, years):\n",
    "    CAGR = ((ending_bal / begining_bal)**(1 / years) - 1)\n",
    "    \n",
    "    return CAGR\n",
    "    \n",
    "growth_rates.append(CAGR)\n",
    "\n",
    "#year 1\n",
    "beginning_balance_1 = 29000.00\n",
    "ending_balance_1 = 45000.00\n",
    "years_1 = 1.0\n",
    "CAGR = (f'{round(calculate_compound_growth_rate(beginning_balance_1, ending_balance_1, years_1), 2)}%')\n",
    "\n",
    "#year 2\n",
    "beginning_balance_2 = 45000.00\n",
    "ending_balance_2 = 47000.00\n",
    "years_2 = 1.0\n",
    "CAGR = (f'{round(calculate_compound_growth_rate(beginning_balance_2, ending_balance_2, years_2), 2)}%')\n",
    "\n",
    "#year 3\n",
    "beginning_balance_3 = 47000.00\n",
    "ending_balance_3 = 48930.00\n",
    "years_3 = 1.0\n",
    "CAGR = (f'{round(calculate_compound_growth_rate(beginning_balance_3, ending_balance_3, years_3), 2)}%')\n",
    "\n",
    "\n",
    "\n",
    "print('Growth Rates: ', growth_rates)\n"
   ]
  },
  {
   "cell_type": "code",
   "execution_count": 20,
   "id": "reliable-lighting",
   "metadata": {},
   "outputs": [],
   "source": []
  },
  {
   "cell_type": "code",
   "execution_count": 24,
   "id": "after-desperate",
   "metadata": {},
   "outputs": [],
   "source": []
  },
  {
   "cell_type": "code",
   "execution_count": 25,
   "id": "alternate-edmonton",
   "metadata": {},
   "outputs": [],
   "source": []
  },
  {
   "cell_type": "code",
   "execution_count": 26,
   "id": "auburn-distinction",
   "metadata": {},
   "outputs": [],
   "source": []
  },
  {
   "cell_type": "code",
   "execution_count": 27,
   "id": "laden-madonna",
   "metadata": {},
   "outputs": [],
   "source": []
  },
  {
   "cell_type": "code",
   "execution_count": 28,
   "id": "pleased-register",
   "metadata": {},
   "outputs": [],
   "source": []
  },
  {
   "cell_type": "code",
   "execution_count": null,
   "id": "worthy-proceeding",
   "metadata": {},
   "outputs": [],
   "source": []
  },
  {
   "cell_type": "code",
   "execution_count": null,
   "id": "original-usage",
   "metadata": {},
   "outputs": [],
   "source": []
  }
 ],
 "metadata": {
  "kernelspec": {
   "display_name": "Python 3",
   "language": "python",
   "name": "python3"
  },
  "language_info": {
   "codemirror_mode": {
    "name": "ipython",
    "version": 3
   },
   "file_extension": ".py",
   "mimetype": "text/x-python",
   "name": "python",
   "nbconvert_exporter": "python",
   "pygments_lexer": "ipython3",
   "version": "3.8.5"
  }
 },
 "nbformat": 4,
 "nbformat_minor": 5
}
