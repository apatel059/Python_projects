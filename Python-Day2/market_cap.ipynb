{
 "cells": [
  {
   "cell_type": "code",
   "execution_count": 1,
   "id": "greatest-isaac",
   "metadata": {},
   "outputs": [
    {
     "name": "stdout",
     "output_type": "stream",
     "text": [
      "Dictionary: {'JP Morgan Chase': 327, 'Bank of America': 302, 'Citigroup': 173, 'Wells Fargo': 273, 'Goldman Sachs': 87, 'Morgan Stanley': 72, 'U.S. Bancorp': 83, 'TD Bank': 108, 'PNC Financial Services': 67, 'Capital One': 47, 'FNB Corporation': 4, 'First Hawaiian Bank': 3, 'Ally Financial': 12, 'Wachovia': 145, 'Republic Bancorp': 0.97}\n"
     ]
    }
   ],
   "source": [
    "banks = {\n",
    "'JP Morgan Chase': 327,\n",
    "'Bank of America': 302,\n",
    "'Citigroup': 173,\n",
    "'Wells Fargo': 273,\n",
    "'Goldman Sachs': 87,\n",
    "'Morgan Stanley': 72,\n",
    "'U.S. Bancorp': 83,\n",
    "'TD Bank': 108,\n",
    "'PNC Financial Services': 67,\n",
    "'Capital One': 47,\n",
    "'FNB Corporation': 4,\n",
    "'First Hawaiian Bank': 3,\n",
    "'Ally Financial': 12,\n",
    "'Wachovia': 145,\n",
    "'Republic Bancorp': .97}\n",
    "\n",
    "print(f'Dictionary: {banks}')"
   ]
  },
  {
   "cell_type": "code",
   "execution_count": 2,
   "id": "aerial-tobago",
   "metadata": {},
   "outputs": [
    {
     "name": "stdout",
     "output_type": "stream",
     "text": [
      "{'JP Morgan Chase': 327, 'Bank of America': 302, 'Citigroup': 170, 'Wells Fargo': 273, 'Goldman Sachs': 87, 'Morgan Stanley': 72, 'U.S. Bancorp': 83, 'TD Bank': 108, 'PNC Financial Services': 67, 'Capital One': 47, 'FNB Corporation': 4, 'First Hawaiian Bank': 3, 'Ally Financial': 12, 'Wachovia': 145, 'Republic Bancorp': 0.97}\n"
     ]
    }
   ],
   "source": [
    "banks[\"Citigroup\"] = 170\n",
    "print(banks)"
   ]
  },
  {
   "cell_type": "code",
   "execution_count": 3,
   "id": "expanded-comment",
   "metadata": {},
   "outputs": [
    {
     "name": "stdout",
     "output_type": "stream",
     "text": [
      "{'JP Morgan Chase': 327, 'Bank of America': 302, 'Citigroup': 170, 'Wells Fargo': 273, 'Goldman Sachs': 87, 'Morgan Stanley': 72, 'U.S. Bancorp': 83, 'TD Bank': 108, 'PNC Financial Services': 67, 'Capital One': 47, 'FNB Corporation': 4, 'First Hawaiian Bank': 3, 'Ally Financial': 12, 'Wachovia': 145, 'Republic Bancorp': 0.97, 'American Express': 33}\n"
     ]
    }
   ],
   "source": [
    "banks['American Express'] = 33\n",
    "print(banks)"
   ]
  },
  {
   "cell_type": "code",
   "execution_count": 4,
   "id": "nearby-application",
   "metadata": {},
   "outputs": [
    {
     "name": "stdout",
     "output_type": "stream",
     "text": [
      "{'JP Morgan Chase': 327, 'Bank of America': 302, 'Citigroup': 170, 'Wells Fargo': 273, 'Goldman Sachs': 87, 'Morgan Stanley': 72, 'U.S. Bancorp': 83, 'TD Bank': 108, 'PNC Financial Services': 67, 'Capital One': 47, 'FNB Corporation': 4, 'First Hawaiian Bank': 3, 'Ally Financial': 12, 'Republic Bancorp': 0.97, 'American Express': 33}\n"
     ]
    }
   ],
   "source": [
    "del banks['Wachovia']\n",
    "print(banks)"
   ]
  },
  {
   "cell_type": "code",
   "execution_count": 5,
   "id": "corresponding-regression",
   "metadata": {},
   "outputs": [],
   "source": [
    "total = 0\n",
    "count = 0\n",
    "average = 0\n",
    "\n",
    "minimum_key = ''\n",
    "minimum_value = 0\n",
    "\n",
    "maximum_key = ''\n",
    "maximum_value = 0\n",
    "\n",
    "mega_cap = []\n",
    "large_cap = []\n",
    "mid_cap = []\n",
    "small_cap = []\n"
   ]
  },
  {
   "cell_type": "code",
   "execution_count": 6,
   "id": "connected-robin",
   "metadata": {},
   "outputs": [
    {
     "name": "stdout",
     "output_type": "stream",
     "text": [
      "Total market capitalization: 1588\n",
      "Number of banks: 15\n",
      "Smallest bank: Republic Bancorp\n",
      "Largest bank: JP Morgan Chase\n",
      "Average market capitalization: 105.87\n",
      "Mega Cap: ['JP Morgan Chase', 'Bank of America']\n",
      "Large Cap: ['Citigroup', 'Wells Fargo', 'Goldman Sachs', 'Morgan Stanley', 'U.S. Bancorp', 'TD Bank', 'PNC Financial Services', 'Capital One', 'Ally Financial', 'American Express']\n",
      "Mid Cap: ['FNB Corporation', 'First Hawaiian Bank']\n",
      "small Cap: ['Republic Bancorp']\n"
     ]
    }
   ],
   "source": [
    "for name, mar_cap in banks.items():\n",
    "    \n",
    "    #Total market capitalization\n",
    "    total += int(mar_cap)\n",
    "    \n",
    "    #number of banks \n",
    "    count += 1\n",
    "    \n",
    "    #Smallest bank\n",
    "    if minimum_value == 0:\n",
    "        minimum_value = mar_cap\n",
    "        minimum_key = name\n",
    "    elif mar_cap < minimum_value:\n",
    "        minimum_value = mar_cap\n",
    "        minimum_key = name\n",
    "        \n",
    "    #largest bank\n",
    "    if mar_cap > maximum_value:\n",
    "        maximum_value = mar_cap\n",
    "        maximum_key = name\n",
    "        \n",
    "    if mar_cap >= 300:\n",
    "        mega_cap.append(name)\n",
    "    elif mar_cap <= 299 and mar_cap >= 10:\n",
    "        large_cap.append(name)\n",
    "    elif mar_cap <= 9 and mar_cap >= 2:\n",
    "        mid_cap.append(name)\n",
    "    elif mar_cap <= 1 and mar_cap >= .30:\n",
    "        small_cap.append(name)\n",
    "    \n",
    "#Average market capitalization\n",
    "average = round(total / count, 2)\n",
    "\n",
    "print(f'Total market capitalization: {total}')\n",
    "print(f'Number of banks: {count}')\n",
    "print(f'Smallest bank: {minimum_key}')\n",
    "print(f'Largest bank: {maximum_key}')\n",
    "print(f'Average market capitalization: {average}')\n",
    "print(f'Mega Cap: {mega_cap}')\n",
    "print(f'Large Cap: {large_cap}')\n",
    "print(f'Mid Cap: {mid_cap}')\n",
    "print(f'small Cap: {small_cap}')"
   ]
  },
  {
   "cell_type": "code",
   "execution_count": 7,
   "id": "sporting-force",
   "metadata": {},
   "outputs": [],
   "source": [
    "#mega-cap: Market capitalization greater than or equal to $300 billion.\n",
    "\n",
    "\n",
    "#large-cap: Market capitalization greater than or equal to $10 billion and less than $300 billion.\n",
    "\n",
    "\n",
    "#mid-cap: Market capitalization greater than or equal to $2 and less than $10 billion.\n",
    "\n",
    "\n",
    "#small-cap: Market capitalization greater than or equal to $300 million and less than $2 billion.\n",
    "\n",
    "\n",
    "\n",
    "\n",
    "\n"
   ]
  },
  {
   "cell_type": "code",
   "execution_count": null,
   "id": "fantastic-sense",
   "metadata": {},
   "outputs": [],
   "source": []
  },
  {
   "cell_type": "code",
   "execution_count": null,
   "id": "descending-vehicle",
   "metadata": {},
   "outputs": [],
   "source": []
  }
 ],
 "metadata": {
  "kernelspec": {
   "display_name": "Python 3",
   "language": "python",
   "name": "python3"
  },
  "language_info": {
   "codemirror_mode": {
    "name": "ipython",
    "version": 3
   },
   "file_extension": ".py",
   "mimetype": "text/x-python",
   "name": "python",
   "nbconvert_exporter": "python",
   "pygments_lexer": "ipython3",
   "version": "3.8.5"
  }
 },
 "nbformat": 4,
 "nbformat_minor": 5
}
