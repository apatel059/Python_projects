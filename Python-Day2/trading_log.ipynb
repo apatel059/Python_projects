{
 "cells": [
  {
   "cell_type": "code",
   "execution_count": 1,
   "metadata": {},
   "outputs": [],
   "source": [
    "count = 0\n",
    "total = 0\n",
    "average = 0\n",
    "minimum = 0\n",
    "maximum = 0"
   ]
  },
  {
   "cell_type": "code",
   "execution_count": 2,
   "metadata": {},
   "outputs": [],
   "source": [
    "profitable_day = []\n",
    "unprofitable_day = []"
   ]
  },
  {
   "cell_type": "code",
   "execution_count": 3,
   "metadata": {},
   "outputs": [],
   "source": [
    "trading_pnl = [ 800, 352, 252, 354, -544,\n",
    "                -650, 56, 123, -43, 254,\n",
    "                 325, -123, 47, 321, 123,\n",
    "                 133, -151, 613, 232, -311 ]"
   ]
  },
  {
   "cell_type": "code",
   "execution_count": 4,
   "metadata": {},
   "outputs": [],
   "source": [
    "for day in trading_pnl:\n",
    "    \n",
    "    #cumulatively sum up the total profits/losses \n",
    "    total += day\n",
    "    \n",
    "    #count of actual trading days\n",
    "    count += 1\n",
    "    \n",
    "    #minimum value : worst loss\n",
    "    if minimum == 0:\n",
    "        minimum = day\n",
    "        maximum = day\n",
    "    elif day < minimum:\n",
    "        minimum = day\n",
    "    #maximum value : most profit\n",
    "    if day > maximum:\n",
    "        maximum = day\n",
    "        \n",
    "    #profitable days\n",
    "    if day > 0:\n",
    "        profitable_day.append(day)\n",
    "        \n",
    "    #unprofitable days    \n",
    "    if day < 0:\n",
    "        unprofitable_day.append(day)\n",
    "           "
   ]
  },
  {
   "cell_type": "code",
   "execution_count": 5,
   "metadata": {},
   "outputs": [],
   "source": [
    "average = round(total / count, 2)"
   ]
  },
  {
   "cell_type": "code",
   "execution_count": 6,
   "metadata": {},
   "outputs": [],
   "source": [
    "profitable_day_count = len(profitable_day)\n",
    "unprofitable_day_count = len(unprofitable_day)"
   ]
  },
  {
   "cell_type": "code",
   "execution_count": 7,
   "metadata": {},
   "outputs": [],
   "source": [
    "percent_profitable = round((profitable_day_count / count)*100, 2)\n",
    "percent_unprofitable = round((unprofitable_day_count / count)*100, 2)"
   ]
  },
  {
   "cell_type": "code",
   "execution_count": 8,
   "metadata": {},
   "outputs": [
    {
     "name": "stdout",
     "output_type": "stream",
     "text": [
      "--------------summary------------\n",
      "total profit/loss: 2163\n",
      "total number trading days: 20\n",
      "average: 108.15\n",
      "worst loss: -650\n",
      "most profit: 800\n",
      "\n",
      "profitable days: [800, 352, 252, 354, 56, 123, 254, 325, 47, 321, 123, 133, 613, 232]\n",
      "unprofitable days: [-544, -650, -43, -123, -151, -311]\n",
      "\n",
      "total number profitable days: 14\n",
      "total number unprofitable days: 6\n",
      "\n",
      "percentage of profitable days: 70.0\n",
      "percentage of unprofitable days: 30.0\n"
     ]
    }
   ],
   "source": [
    "print('--------------summary------------')\n",
    "print(f'total profit/loss: {total}')\n",
    "print(f'total number trading days: {count}')\n",
    "print(f'average: {average}')\n",
    "print(f'worst loss: {minimum}')\n",
    "print(f'most profit: {maximum}')\n",
    "print()\n",
    "print(f'profitable days: {profitable_day}')\n",
    "print(f'unprofitable days: {unprofitable_day}')\n",
    "print()\n",
    "print(f'total number profitable days: {profitable_day_count}')\n",
    "print(f'total number unprofitable days: {unprofitable_day_count}')\n",
    "print()\n",
    "print(f'percentage of profitable days: {percent_profitable})\n",
    "print(f'percentage of unprofitable days: {percent_unprofitable}')"
   ]
  },
  {
   "cell_type": "code",
   "execution_count": null,
   "metadata": {},
   "outputs": [],
   "source": [
    " ---------Summary Statistics----------\n",
    "Number of Total Days: 20\n",
    "Number of Profitable Days: 14\n",
    "Number of Unprofitable Days: 6\n",
    "Percentage of Profitable Days: 70.0%\n",
    "Percentage of Unprofitable Days: 30.0%\n",
    "-------------------------------------\n",
    "Profitable Days: [800, 352, 252, 354, 56, 123, 254, 325, 47, 321, 123, 133, 613, 232]\n",
    "Unprofitable Days: [-544, -650, -43, -123, -151, -311]\n",
    "-------------------------------------\n",
    "Total Profits/Losses: 2163\n",
    "Daily Average: 108.15\n",
    "Worst Loss: -650\n",
    "Best Gain: 800"
   ]
  }
 ],
 "metadata": {
  "kernelspec": {
   "display_name": "Python 3",
   "language": "python",
   "name": "python3"
  },
  "language_info": {
   "codemirror_mode": {
    "name": "ipython",
    "version": 3
   },
   "file_extension": ".py",
   "mimetype": "text/x-python",
   "name": "python",
   "nbconvert_exporter": "python",
   "pygments_lexer": "ipython3",
   "version": "3.7.9"
  }
 },
 "nbformat": 4,
 "nbformat_minor": 5
}
