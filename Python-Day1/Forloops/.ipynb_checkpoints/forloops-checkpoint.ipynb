{
 "cells": [
  {
   "cell_type": "code",
   "execution_count": null,
   "id": "raising-terrace",
   "metadata": {},
   "outputs": [],
   "source": [
    "for x in range (10):\n",
    "    print(x)"
   ]
  },
  {
   "cell_type": "code",
   "execution_count": null,
   "id": "recovered-priest",
   "metadata": {},
   "outputs": [],
   "source": [
    "for x in range (2, 7):\n",
    "    print (x)"
   ]
  },
  {
   "cell_type": "code",
   "execution_count": null,
   "id": "billion-spring",
   "metadata": {},
   "outputs": [],
   "source": [
    "word = 'peace'\n",
    "for x in word:\n",
    "    print(x)"
   ]
  },
  {
   "cell_type": "code",
   "execution_count": null,
   "id": "corporate-width",
   "metadata": {},
   "outputs": [],
   "source": [
    "run = 'y'\n",
    "\n",
    "while run == 'y':\n",
    "    print('Hi!')\n",
    "    run = input('To run again. Enter \"y\"')"
   ]
  },
  {
   "cell_type": "code",
   "execution_count": null,
   "id": "exceptional-favorite",
   "metadata": {},
   "outputs": [],
   "source": [
    "desired_number = 5\n",
    "for x in range (10):\n",
    "    if (x == desired_number):\n",
    "        break\n",
    "    print(x)"
   ]
  },
  {
   "cell_type": "code",
   "execution_count": null,
   "id": "funded-interpretation",
   "metadata": {},
   "outputs": [],
   "source": [
    "desired_number = 5\n",
    "for x in range (10):\n",
    "    if (x == desired_number):\n",
    "        continue\n",
    "    print(x)"
   ]
  },
  {
   "cell_type": "code",
   "execution_count": null,
   "id": "apparent-ticket",
   "metadata": {},
   "outputs": [],
   "source": [
    "cheer = 'Python'\n",
    "cheer_symbol = \"*\\O/*\"\n",
    "cheer_symbol_2 = \"ヘ( ^o^)ノ＼(^_^ )\"\n",
    "\n",
    "print(f'What does that spell?!')\n",
    "print(cheer + \"\\nWohoo! + Go\" + cheer + \"!\")"
   ]
  },
  {
   "cell_type": "code",
   "execution_count": null,
   "id": "rational-leonard",
   "metadata": {},
   "outputs": [],
   "source": []
  },
  {
   "cell_type": "code",
   "execution_count": null,
   "id": "going-partnership",
   "metadata": {},
   "outputs": [],
   "source": []
  },
  {
   "cell_type": "code",
   "execution_count": null,
   "id": "herbal-ordinary",
   "metadata": {},
   "outputs": [],
   "source": []
  }
 ],
 "metadata": {
  "kernelspec": {
   "display_name": "Python 3",
   "language": "python",
   "name": "python3"
  },
  "language_info": {
   "codemirror_mode": {
    "name": "ipython",
    "version": 3
   },
   "file_extension": ".py",
   "mimetype": "text/x-python",
   "name": "python",
   "nbconvert_exporter": "python",
   "pygments_lexer": "ipython3",
   "version": "3.8.5"
  }
 },
 "nbformat": 4,
 "nbformat_minor": 5
}
