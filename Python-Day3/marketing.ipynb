{
 "cells": [
  {
   "cell_type": "code",
   "execution_count": 12,
   "id": "grateful-sunday",
   "metadata": {},
   "outputs": [],
   "source": [
    "# List of dicts\n",
    "customers = [\n",
    "    { \"first_name\": \"Tom\", \"last_name\": \"Bell\", \"revenue\": 0 },\n",
    "    { \"first_name\": \"Maggie\", \"last_name\": \"Johnson\", \"revenue\": 1032 },\n",
    "    { \"first_name\": \"John\", \"last_name\": \"Spectre\", \"revenue\": 2543 },\n",
    "    { \"first_name\": \"Susy\", \"last_name\": \"Simmons\", \"revenue\": 5322 },\n",
    "]"
   ]
  },
  {
   "cell_type": "markdown",
   "id": "skilled-tissue",
   "metadata": {},
   "source": [
    "Define a function named create_greeting that accepts a customer first_name, last_name,and revenue and returns a custom greeting using the full name. Use these ranges to determine the business tier (and corresponding message)for each customer.\n",
    "   Platinum = 3001+\n",
    "   Gold = 2001-3000\n",
    "   Silver = 1001-2000\n",
    "   Bronze = 0-100"
   ]
  },
  {
   "cell_type": "code",
   "execution_count": 13,
   "id": "precious-veteran",
   "metadata": {},
   "outputs": [],
   "source": [
    "def create_greeting(f_name, l_name, rev):\n",
    "    if rev >= 3001:\n",
    "        greeting = f\"Hi {f_name} {l_name}! Thank you for your business of ${rev}! You are a platinum member.\"\n",
    "    elif (rev >= 2001 and rev <= 3000):\n",
    "        greeting = f\"Hi {f_name} {l_name}! Thank you for your business of ${rev}! You are a gold member.\"\n",
    "    elif (rev >= 1001 and rev <= 2000):\n",
    "        greeting = f\"Hi {f_name} {l_name}! Thank you for your business of ${rev}! You are a silver member.\"\n",
    "    elif (rev >= 0 and rev <= 1000):\n",
    "        greeting = f\"Hi {f_name} {l_name}! Thank you for your business of ${rev}! You are a bronze member.\"\n",
    "    else:\n",
    "        greeting = f'not a customer'\n",
    "        \n",
    "    return greeting"
   ]
  },
  {
   "cell_type": "markdown",
   "id": "narrow-circuit",
   "metadata": {},
   "source": [
    "Create a for loop that iterates through customers and prints out the constructed greeting for each customer."
   ]
  },
  {
   "cell_type": "code",
   "execution_count": 14,
   "id": "wound-throw",
   "metadata": {},
   "outputs": [
    {
     "name": "stdout",
     "output_type": "stream",
     "text": [
      "Hi Tom Bell! Thank you for your business of $0! You are a bronze member.\n",
      "Hi Maggie Johnson! Thank you for your business of $1032! You are a silver member.\n",
      "Hi John Spectre! Thank you for your business of $2543! You are a gold member.\n",
      "Hi Susy Simmons! Thank you for your business of $5322! You are a platinum member.\n"
     ]
    }
   ],
   "source": [
    "customer = ''\n",
    "for customer in customers:\n",
    "    greeting = create_greeting(customer['first_name'], customer['last_name'], customer['revenue'])\n",
    "    print(greeting)"
   ]
  },
  {
   "cell_type": "code",
   "execution_count": null,
   "id": "tight-summary",
   "metadata": {},
   "outputs": [],
   "source": []
  },
  {
   "cell_type": "code",
   "execution_count": null,
   "id": "directed-twenty",
   "metadata": {},
   "outputs": [],
   "source": []
  }
 ],
 "metadata": {
  "kernelspec": {
   "display_name": "Python 3.7 (XPython)",
   "language": "python",
   "name": "xpython"
  },
  "language_info": {
   "file_extension": ".py",
   "mimetype": "text/x-python",
   "name": "python",
   "version": "3.7.9"
  }
 },
 "nbformat": 4,
 "nbformat_minor": 5
}
