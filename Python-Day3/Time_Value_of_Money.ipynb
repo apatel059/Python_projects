{
 "cells": [
  {
   "cell_type": "markdown",
   "id": "whole-invention",
   "metadata": {},
   "source": [
    "\"\"\"\n",
    "Zero-Coupon Bond Valuation.\n",
    "\n",
    "This script will calculate the present value of zero-coupon bonds, compare the present value to the price of the bond, and determine the corresponding action (buy, not buy, neutral).\n",
    "\"\"\"\n"
   ]
  },
  {
   "cell_type": "code",
   "execution_count": 1,
   "id": "useful-advice",
   "metadata": {},
   "outputs": [],
   "source": [
    "#Create a function to calculate present value\n",
    "def present_value(future_value, discount_rate, compounding_periods, years):\n",
    "    present_value = future_value/(1+(discount_rate/compounding_periods))**(compounding_periods*years)\n",
    "    return present_value"
   ]
  },
  {
   "cell_type": "code",
   "execution_count": 2,
   "id": "operational-drove",
   "metadata": {},
   "outputs": [],
   "source": [
    "# Intialize the zero-coupon bond parameters, assume compounding period is equal to 1\n",
    "price = 700\n",
    "future_value = 1000\n",
    "discount_rate = .1\n",
    "compounding_periods = 1\n",
    "years = 5"
   ]
  },
  {
   "cell_type": "code",
   "execution_count": 3,
   "id": "binding-supplement",
   "metadata": {},
   "outputs": [],
   "source": [
    "# Call the present_value() function and assign to a variables\n",
    "bond_value = present_value(future_value, discount_rate, compounding_periods, years)"
   ]
  },
  {
   "cell_type": "code",
   "execution_count": 4,
   "id": "armed-reporter",
   "metadata": {},
   "outputs": [
    {
     "name": "stdout",
     "output_type": "stream",
     "text": [
      "The bond is selling at a price of $700 and is valued at $620.9213230591549.\n",
      "A premium of 79.08 exists, therefore you do not want to buy the bond.\n"
     ]
    }
   ],
   "source": [
    "# How can this code be optimized?\n",
    "if bond_value > price:\n",
    "    discount = round(bond_value - price, 2)\n",
    "    print(f\"The bond is selling at a price of ${price} and is valued at ${bond_value}.\")\n",
    "    print(f\"A discount of {discount} exists, therefore you want to buy the bond.\")\n",
    "elif bond_value < price:\n",
    "    premium = round(price - bond_value, 2)\n",
    "    print(f\"The bond is selling at a price of ${price} and is valued at ${bond_value}.\")\n",
    "    print(f\"A premium of {premium} exists, therefore you do not want to buy the bond.\")\n",
    "else:\n",
    "    print(f\"The bond is selling at a price of ${price} and is valued at ${bond_value}.\")\n",
    "    print(f\"The bond is selling at its present value, you are neutral.\")"
   ]
  },
  {
   "cell_type": "code",
   "execution_count": null,
   "id": "recovered-uganda",
   "metadata": {},
   "outputs": [],
   "source": []
  },
  {
   "cell_type": "code",
   "execution_count": null,
   "id": "polar-florida",
   "metadata": {},
   "outputs": [],
   "source": []
  }
 ],
 "metadata": {
  "kernelspec": {
   "display_name": "Python 3.7 (XPython)",
   "language": "python",
   "name": "xpython"
  },
  "language_info": {
   "file_extension": ".py",
   "mimetype": "text/x-python",
   "name": "python",
   "version": "3.7.9"
  }
 },
 "nbformat": 4,
 "nbformat_minor": 5
}
