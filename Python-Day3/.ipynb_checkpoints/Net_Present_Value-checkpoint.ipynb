{
 "cells": [
  {
   "cell_type": "markdown",
   "id": "stretch-repository",
   "metadata": {},
   "source": [
    "\"\"\"Student Activity: Financial Analysis using NPV.\n",
    "\n",
    "This script will choose the optimal project scenario to\n",
    "undertake based on max NPV values.\n",
    "\"\"\""
   ]
  },
  {
   "cell_type": "code",
   "execution_count": 1,
   "id": "terminal-disclaimer",
   "metadata": {},
   "outputs": [],
   "source": [
    "#Import the NumPy Financial (numpy_financial) library\n",
    "import numpy\n",
    "import numpy_financial as npf"
   ]
  },
  {
   "cell_type": "code",
   "execution_count": 2,
   "id": "olympic-cholesterol",
   "metadata": {},
   "outputs": [],
   "source": [
    "# Discount Rate\n",
    "discount_rate = .1\n",
    "\n",
    "# Initial Investment, Cash Flow 1, Cash Flow 2, Cash Flow 3, Cash Flow 4\n",
    "cash_flows_conservative = [-1000, 400, 400, 400, 400]\n",
    "cash_flows_neutral = [-1500, 600, 600, 600, 600]\n",
    "cash_flows_aggressive = [-2250, 800, 800, 800, 800]"
   ]
  },
  {
   "cell_type": "code",
   "execution_count": 3,
   "id": "revised-helen",
   "metadata": {},
   "outputs": [],
   "source": [
    "#Initialize dictionary to hold NPV return values\n",
    "npv_dic = {}\n",
    "npv_dic['conservative'] = round(npf.npv(discount_rate, cash_flows_conservative),2)\n",
    "npv_dic['neutral'] = round(npf.npv(discount_rate, cash_flows_neutral),2)\n",
    "npv_dic['aggressive'] = round(npf.npv(discount_rate, cash_flows_aggressive),2)"
   ]
  },
  {
   "cell_type": "code",
   "execution_count": 7,
   "id": "vietnamese-maldives",
   "metadata": {},
   "outputs": [
    {
     "name": "stdout",
     "output_type": "stream",
     "text": [
      "neutral, 401.92\n"
     ]
    }
   ],
   "source": [
    "max_value = 0\n",
    "max_key = 0\n",
    "for key, value in npv_dic.items():\n",
    "    \n",
    "    if max_value == 0:\n",
    "        max_value = value\n",
    "        max_key = key\n",
    "    elif value > max_value:\n",
    "        max_value = value\n",
    "        max_key = key\n",
    "print(f'{max_key}, {max_value}')"
   ]
  },
  {
   "cell_type": "code",
   "execution_count": 8,
   "id": "orange-moscow",
   "metadata": {},
   "outputs": [
    {
     "name": "stdout",
     "output_type": "stream",
     "text": [
      "The optimal project scenario to undertake is 'neutral' with a NPV of 401.92\n"
     ]
    }
   ],
   "source": [
    "print(f\"The optimal project scenario to undertake is 'neutral' with a NPV of {npv_dic['neutral']}\")\n"
   ]
  },
  {
   "cell_type": "code",
   "execution_count": null,
   "id": "intended-calendar",
   "metadata": {},
   "outputs": [],
   "source": []
  }
 ],
 "metadata": {
  "kernelspec": {
   "display_name": "Python 3.7 (XPython)",
   "language": "python",
   "name": "xpython"
  },
  "language_info": {
   "file_extension": ".py",
   "mimetype": "text/x-python",
   "name": "python",
   "version": "3.7.9"
  }
 },
 "nbformat": 4,
 "nbformat_minor": 5
}
